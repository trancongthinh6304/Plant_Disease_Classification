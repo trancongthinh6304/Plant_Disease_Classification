{
 "cells": [
  {
   "cell_type": "code",
   "execution_count": null,
   "source": [
    "from build_model import *\r\n",
    "from create_callbacks import *\r\n",
    "from evaluate import *\r\n",
    "from fit_model import *\r\n",
    "from plot_history import *\r\n",
    "from predict import *\r\n",
    "from read_data import *"
   ],
   "outputs": [],
   "metadata": {}
  },
  {
   "cell_type": "code",
   "execution_count": null,
   "source": [
    "#Setting parameters\r\n",
    "root_dir = \"path/to/image/directory\"\r\n",
    "save_dir = \"path/to/save/model\"\r\n",
    "val_split = 0.2 #percent validation sample in total dataset\r\n",
    "test_split = 0.2 #percent test sample in total dataset\r\n",
    "#val_split + test_split should be smaller than 1\r\n",
    "seed = 42 #an integer\r\n",
    "model_name = \"ResNet50\"\r\n",
    "img_size = 256 #img_size\r\n",
    "lr = 1e-05\r\n",
    "min_lr = 1e-08\r\n",
    "lr_patience = 3 #ReduceLrOnPlateu patience\r\n",
    "lr_factor = 0.5 #ReduceLrOnPlateu factor\r\n",
    "es_patience = 10 #EarlyStopping patience\r\n",
    "batch_size = 64\r\n",
    "num_epoch = 30"
   ],
   "outputs": [],
   "metadata": {}
  },
  {
   "cell_type": "code",
   "execution_count": null,
   "source": [
    "X_train, X_test, X_val, y_train, y_val, y_test, class_name = load_data(root_dir, \r\n",
    "                                                                      img_size, \r\n",
    "                                                                      val_split, \r\n",
    "                                                                      test_split, \r\n",
    "                                                                      seed)\r\n",
    "num_class = len(class_name)"
   ],
   "outputs": [],
   "metadata": {}
  },
  {
   "cell_type": "code",
   "execution_count": null,
   "source": [
    "model = build_model(model_name, img_size, num_class, lr)\r\n",
    "callbacks_list = create_callbacks(save_dir, es_patience, min_lr, lr_patience, lr_factor)\r\n",
    "history = fit_model(model, batch_size, num_epoch, X_train, y_train, X_val, y_val, callbacks_list)"
   ],
   "outputs": [],
   "metadata": {}
  },
  {
   "cell_type": "code",
   "execution_count": null,
   "source": [
    "plot_history(history)"
   ],
   "outputs": [],
   "metadata": {}
  },
  {
   "cell_type": "code",
   "execution_count": null,
   "source": [
    "evaluate(model, X_test, y_test, class_name)"
   ],
   "outputs": [],
   "metadata": {}
  },
  {
   "cell_type": "code",
   "execution_count": null,
   "source": [
    "img_path = \"path/to/img\"\r\n",
    "pred = predict(class_name, model, img_path, img_size)"
   ],
   "outputs": [],
   "metadata": {}
  }
 ],
 "metadata": {
  "orig_nbformat": 4,
  "language_info": {
   "name": "python"
  }
 },
 "nbformat": 4,
 "nbformat_minor": 2
}